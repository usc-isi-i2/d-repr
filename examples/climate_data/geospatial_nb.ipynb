{
 "cells": [
  {
   "cell_type": "markdown",
   "metadata": {},
   "source": [
    "This notebook contains code that tests the geospatial files and libraries and see if we can make them work with D-REPR"
   ]
  },
  {
   "cell_type": "markdown",
   "metadata": {},
   "source": [
    "**Setup notebook**: you should use a virtual environment that GDAL is installed inside (an `environment.yml` is provided so you can use it instead of creating your own)"
   ]
  },
  {
   "cell_type": "code",
   "execution_count": 1,
   "metadata": {},
   "outputs": [],
   "source": [
    "import matplotlib.pyplot as plt, rdflib, pandas as pd, numpy as np, sys, os, random, math, fiona\n",
    "from osgeo import gdal, osr, gdal_array\n",
    "from collections import defaultdict, Counter\n",
    "from dotenv import load_dotenv\n",
    "from tqdm.auto import tqdm\n",
    "from typing import *\n",
    "\n",
    "%matplotlib inline\n",
    "plt.rcParams['figure.figsize'] = (10.0, 8.0) # set default size of plots\n",
    "plt.rcParams['image.interpolation'] = 'nearest'\n",
    "plt.rcParams['image.cmap'] = 'gray'\n",
    "\n",
    "# for auto-reloading external modules\n",
    "# see http://stackoverflow.com/questions/1907993/autoreload-of-modules-in-ipython\n",
    "%load_ext autoreload\n",
    "%autoreload 2\n",
    "\n",
    "# next cell\n",
    "%reload_ext autoreload"
   ]
  },
  {
   "cell_type": "code",
   "execution_count": 2,
   "metadata": {
    "jupyter": {
     "source_hidden": true
    }
   },
   "outputs": [
    {
     "name": "stdout",
     "output_type": "stream",
     "text": [
      "drepr version: 2.7\n"
     ]
    }
   ],
   "source": [
    "load_dotenv(verbose=True)\n",
    "paths = [\"../../\"]\n",
    "for path in paths:\n",
    "    if path not in sys.path:\n",
    "        sys.path.insert(0, path)\n",
    "        \n",
    "from drepr import __version__, DRepr, outputs\n",
    "from raster import *\n",
    "print(\"drepr version:\", __version__)"
   ]
  },
  {
   "cell_type": "markdown",
   "metadata": {},
   "source": [
    "**working with shapefile**"
   ]
  },
  {
   "cell_type": "code",
   "execution_count": 3,
   "metadata": {},
   "outputs": [],
   "source": [
    "shpfile = \"./data/ilubabor-dega/ilubabor-dega.shp\""
   ]
  },
  {
   "cell_type": "markdown",
   "metadata": {},
   "source": [
    "using fiona to load and see what is in the shapefile"
   ]
  },
  {
   "cell_type": "raw",
   "metadata": {},
   "source": [
    "with fiona.open(shpfile, \"r\") as f:\n",
    "    features = list(f)\n",
    "features"
   ]
  },
  {
   "cell_type": "markdown",
   "metadata": {},
   "source": [
    "using drepr to map the file"
   ]
  },
  {
   "cell_type": "code",
   "execution_count": 4,
   "metadata": {},
   "outputs": [],
   "source": [
    "dsmodel = DRepr.parse_from_file(\"./woreda_shapefile.yml\")\n",
    "shp_sm = outputs.ArrayBackend.from_drepr(dsmodel, shpfile)"
   ]
  },
  {
   "cell_type": "code",
   "execution_count": 27,
   "metadata": {
    "collapsed": true,
    "jupyter": {
     "outputs_hidden": true
    }
   },
   "outputs": [
    {
     "name": "stdout",
     "output_type": "stream",
     "text": [
      "place {'@id': (0,), 'mint:region': ['Oromia'], 'mint:zone': ['Ilubabor'], 'mint:district': ['Dega'], 'mint-geo:bounding': [(0,)]}\n",
      "bounding {'@id': (0,), 'rdf:value': [array([[[36.24299932,  8.50049719],\n",
      "        [36.23500927,  8.4954872 ],\n",
      "        [36.20864912,  8.48833724],\n",
      "        [36.18917901,  8.48862727],\n",
      "        [36.1657089 ,  8.49581731],\n",
      "        [36.1409988 ,  8.51360735],\n",
      "        [36.11778869,  8.51733738],\n",
      "        [36.08883853,  8.51430743],\n",
      "        [36.05888838,  8.51958747],\n",
      "        [36.03462828,  8.53830752],\n",
      "        [36.00157812,  8.55347757],\n",
      "        [35.99509809,  8.55272758],\n",
      "        [35.98467804,  8.5600376 ],\n",
      "        [35.98164802,  8.56215761],\n",
      "        [35.98146803,  8.56766761],\n",
      "        [35.98179805,  8.57822761],\n",
      "        [35.98236807,  8.58968761],\n",
      "        [35.97741806,  8.60373762],\n",
      "        [35.96547802,  8.61279765],\n",
      "        [35.95858799,  8.61790766],\n",
      "        [35.94866074,  8.62358297],\n",
      "        [35.98727919,  8.6622011 ],\n",
      "        [36.04415038,  8.66222492],\n",
      "        [36.10655961,  8.70205615],\n",
      "        [36.13024195,  8.71148514],\n",
      "        [36.13623907,  8.70407741],\n",
      "        [36.14035906,  8.6826374 ],\n",
      "        [36.15694912,  8.66637737],\n",
      "        [36.18040924,  8.66103733],\n",
      "        [36.20571937,  8.65593729],\n",
      "        [36.21352938,  8.63591728],\n",
      "        [36.19902928,  8.6214773 ],\n",
      "        [36.20328929,  8.61066728],\n",
      "        [36.21610934,  8.60199726],\n",
      "        [36.22783937,  8.58385724],\n",
      "        [36.23006935,  8.56563723],\n",
      "        [36.22695931,  8.54713723],\n",
      "        [36.2317493 ,  8.52801722],\n",
      "        [36.2355793 ,  8.5118872 ],\n",
      "        [36.24299932,  8.50049719]]])]}\n"
     ]
    }
   ],
   "source": [
    "for c in shp_sm.c(\"mint:Place\"):\n",
    "    for record in c.iter_records():\n",
    "        print(\"place\", record.to_dict())\n",
    "        print(\"bounding\", shp_sm.get_record_by_id(record.s('mint-geo:bounding')).to_dict())\n",
    "        place = record"
   ]
  },
  {
   "cell_type": "markdown",
   "metadata": {},
   "source": [
    "**working with raster dataset:** cropping a weather dataset (GLDAS or GPM)"
   ]
  },
  {
   "cell_type": "code",
   "execution_count": 5,
   "metadata": {},
   "outputs": [],
   "source": [
    "weather_dataset = {\n",
    "    \"gldas\": {\"repr\": \"./gldas.yml\", \"data\": \"GLDAS_NOAH025_3H.A20080101.0000.021.nc4\"},\n",
    "    \"gpm\": {\"repr\": \"./gpm.yml\", \"data\": \"3B-MO.MS.MRG.3IMERG.20080101-S000000-E235959.01.V06B.HDF5.nc4\"},\n",
    "}['gldas']\n",
    "variable = \"atmosphere_water__precipitation_mass_flux\""
   ]
  },
  {
   "cell_type": "markdown",
   "metadata": {},
   "source": [
    "load dataset using drepr"
   ]
  },
  {
   "cell_type": "code",
   "execution_count": 7,
   "metadata": {},
   "outputs": [],
   "source": [
    "from drepr.engine import complete_description"
   ]
  },
  {
   "cell_type": "code",
   "execution_count": 9,
   "metadata": {},
   "outputs": [],
   "source": [
    "dsmodel = DRepr.parse_from_file(weather_dataset['repr'])\n",
    "sm = outputs.ArrayBackend.from_drepr(dsmodel, weather_dataset['data'])"
   ]
  },
  {
   "cell_type": "markdown",
   "metadata": {},
   "source": [
    "crop from a given shape file"
   ]
  },
  {
   "cell_type": "code",
   "execution_count": 21,
   "metadata": {},
   "outputs": [],
   "source": [
    "mint = sm.ns(\"https://mint.isi.edu/\")\n",
    "rdf = sm.ns(outputs.Namespace.RDF)\n",
    "mint_geo = sm.ns(\"https://mint.isi.edu/geo\")\n",
    "\n",
    "rasters = []\n",
    "\n",
    "for c in sm.c(mint.Variable).filter(outputs.FCondition(mint.standardName, \"==\", variable)):\n",
    "    for raster_id, sc in c.group_by(mint_geo.raster):\n",
    "        data = sc.p(rdf.value).as_ndarray([sc.p(mint_geo.lat), sc.p(mint_geo.long)])\n",
    "        gt_info = sm.get_record_by_id(raster_id)\n",
    "        gt = GeoTransform(x_0=gt_info.s(mint_geo.x_0),\n",
    "                          y_0=gt_info.s(mint_geo.y_0),\n",
    "                          dx=gt_info.s(mint_geo.dx), dy=gt_info.s(mint_geo.dy))\n",
    "        raster = Raster(data.data, gt, int(gt_info.s(mint_geo.epsg)),\n",
    "               data.nodata.value if data.nodata is not None else None)\n",
    "        raster.to_geotiff(\"./debug.tif\")\n",
    "        raster = raster.crop(vector_file=shpfile, resampling_algo=ReSample.BILINEAR)\n",
    "        raster.to_geotiff(\"./cropped_debug.tif\")\n",
    "\n",
    "        rasters.append(raster)"
   ]
  },
  {
   "cell_type": "markdown",
   "metadata": {},
   "source": [
    "**create new in-memory dataset:** useful if we want to create d-repr dataset from some data in-memory. We are going to use it to demonstrate the process of cropping a dataset based on a bounding polygon and return it as a d-repr dataset"
   ]
  },
  {
   "cell_type": "markdown",
   "metadata": {},
   "source": [
    "inject in memory first"
   ]
  },
  {
   "cell_type": "code",
   "execution_count": 30,
   "metadata": {},
   "outputs": [],
   "source": [
    "from drepr.executors.readers.reader_container import ReaderContainer\n",
    "from drepr.executors.readers.np_dict import NPDictReader\n",
    "\n",
    "for i, r in enumerate(rasters):\n",
    "    reader = NPDictReader({\n",
    "        \"variable\": r.data,\n",
    "        \"nodata\": r.nodata,\n",
    "        \"gt_x_0\": r.geotransform.x_0,\n",
    "        \"gt_y_0\": r.geotransform.y_0,\n",
    "        \"gt_dx\": r.geotransform.dx,\n",
    "        \"gt_dy\": r.geotransform.dy,\n",
    "        \"gt_epsg\": 4326,\n",
    "        \"gt_x_slope\": r.geotransform.x_slope,\n",
    "        \"gt_y_shope\": r.geotransform.y_slope,\n",
    "        \"place_region\": place.s(\"mint:region\"),\n",
    "        \"place_zone\": place.s(\"mint:zone\"),\n",
    "        \"place_district\": place.s(\"mint:district\")\n",
    "    })\n",
    "    ReaderContainer.get_instance().set(f\"resource-{i}\", reader)"
   ]
  },
  {
   "cell_type": "markdown",
   "metadata": {},
   "source": [
    "create drepr mapping for them"
   ]
  },
  {
   "cell_type": "code",
   "execution_count": 36,
   "metadata": {},
   "outputs": [],
   "source": [
    "dsmodel = {\n",
    "    \"version\": \"2\",\n",
    "    \"resources\": \"container\",\n",
    "    \"attributes\": {\n",
    "        \"variable\": \"$.variable[:][:]\",\n",
    "        \"nodata\": \"$.nodata\",\n",
    "        \"gt_x_0\": \"$.gt_x_0\",\n",
    "        \"gt_y_0\": \"$.gt_y_0\",\n",
    "        \"gt_dx\": \"$.gt_dx\",\n",
    "        \"gt_dy\": \"$.gt_dy\",\n",
    "        \"gt_epsg\": \"$.gt_epsg\",\n",
    "        \"gt_x_slope\": \"$.gt_x_slope\",\n",
    "        \"gt_y_shope\": \"$.gt_y_shope\",\n",
    "        \"place_region\": \"$.place_region\",\n",
    "        \"place_zone\": \"$.place_zone\",\n",
    "        \"place_district\": \"$.place_district\",\n",
    "    },\n",
    "    \"alignments\": [\n",
    "        {\"type\": \"dimension\", \"source\": \"variable\", \"target\": x, \"aligned_dims\": []}\n",
    "        for x in [\"nodata\", \"gt_x_0\", \"gt_y_0\", \"gt_dx\", \"gt_dy\", \"gt_epsg\", \"gt_x_slope\", \"gt_y_shope\", \"place_region\", \"place_zone\", \"place_district\"]\n",
    "    ],\n",
    "    \"semantic_model\": {\n",
    "        \"mint:Variable:1\": {\n",
    "            \"properties\": [\n",
    "                (\"rdf:value\", \"variable\")\n",
    "            ],\n",
    "            \"links\": [\n",
    "                (\"mint:place\", \"mint:Place:1\"),\n",
    "                (\"mint-geo:raster\", \"mint-geo:Raster:1\")\n",
    "            ]\n",
    "        },\n",
    "        \"mint-geo:Raster:1\": {\n",
    "            \"properties\": [\n",
    "                (\"mint-geo:x_0\", \"gt_x_0\"),\n",
    "                (\"mint-geo:y_0\", \"gt_y_0\"),\n",
    "                (\"mint-geo:dx\", \"gt_dx\"),\n",
    "                (\"mint-geo:dy\", \"gt_dy\"),\n",
    "                (\"mint-geo:epsg\", \"gt_epsg\"),\n",
    "                (\"mint-geo:x_slope\", \"gt_x_slope\"),\n",
    "                (\"mint-geo:y_shope\", \"gt_y_shope\"),\n",
    "            ]\n",
    "        },\n",
    "        \"mint:Place:1\": {\n",
    "            \"properties\": [\n",
    "                (\"mint:region\", \"place_region\"),\n",
    "                (\"mint:zone\", \"place_zone\"),\n",
    "                (\"mint:district\", \"place_district\"),\n",
    "            ]\n",
    "        },\n",
    "        \"prefixes\": {\n",
    "            \"mint\": \"https://mint.isi.edu/\",\n",
    "            \"mint-geo\": \"https://mint.isi.edu/geo\"\n",
    "        }\n",
    "    }\n",
    "}\n",
    "\n",
    "dsmodel = DRepr.parse(dsmodel)"
   ]
  },
  {
   "cell_type": "markdown",
   "metadata": {},
   "source": [
    "now create N-datasets from N rasters (resources)"
   ]
  },
  {
   "cell_type": "code",
   "execution_count": 37,
   "metadata": {},
   "outputs": [],
   "source": [
    "for i in range(len(rasters)):\n",
    "    new_sm = outputs.ArrayBackend.from_drepr(dsmodel, f\"resource-{i}\")"
   ]
  },
  {
   "cell_type": "code",
   "execution_count": 44,
   "metadata": {},
   "outputs": [
    {
     "name": "stdout",
     "output_type": "stream",
     "text": [
      ">>> mint:Variable:1\n",
      "{'@id': (0, 0), 'rdf:value': [0.04891601], 'mint:place': [()], 'mint-geo:raster': [()]}\n",
      "{'@id': (0, 1), 'rdf:value': [0.04556715], 'mint:place': [()], 'mint-geo:raster': [()]}\n",
      "{'@id': (0, 2), 'rdf:value': [0.0484128], 'mint:place': [()], 'mint-geo:raster': [()]}\n",
      "{'@id': (0, 3), 'rdf:value': [0.035574928], 'mint:place': [()], 'mint-geo:raster': [()]}\n",
      "{'@id': (1, 0), 'rdf:value': [0.06609181], 'mint:place': [()], 'mint-geo:raster': [()]}\n",
      "{'@id': (1, 1), 'rdf:value': [0.05395234], 'mint:place': [()], 'mint-geo:raster': [()]}\n",
      "{'@id': (1, 2), 'rdf:value': [0.0533901], 'mint:place': [()], 'mint-geo:raster': [()]}\n",
      "{'@id': (1, 3), 'rdf:value': [0.03947892], 'mint:place': [()], 'mint-geo:raster': [()]}\n",
      ">>> mint-geo:Raster:1\n",
      "{'@id': (0,), 'mint-geo:x_0': [35.900000000000006], 'mint-geo:y_0': [8.700000000000003], 'mint-geo:dx': [0.10000000000000142], 'mint-geo:dy': [-0.10000000000000142], 'mint-geo:epsg': [4326], 'mint-geo:x_slope': [0.0], 'mint-geo:y_shope': [0.0]}\n",
      ">>> mint:Place:1\n",
      "{'@id': (0,), 'mint:region': ['Oromia'], 'mint:zone': ['Ilubabor'], 'mint:district': ['Dega']}\n"
     ]
    }
   ],
   "source": [
    "for c in new_sm.iter_classes():\n",
    "    print(\">>>\", c.id)\n",
    "    for r in c.iter_records():\n",
    "        print(r.to_dict())"
   ]
  },
  {
   "cell_type": "code",
   "execution_count": null,
   "metadata": {},
   "outputs": [],
   "source": []
  }
 ],
 "metadata": {
  "kernelspec": {
   "display_name": "drepr-geospatial",
   "language": "python",
   "name": "drepr-geospatial"
  },
  "language_info": {
   "codemirror_mode": {
    "name": "ipython",
    "version": 3
   },
   "file_extension": ".py",
   "mimetype": "text/x-python",
   "name": "python",
   "nbconvert_exporter": "python",
   "pygments_lexer": "ipython3",
   "version": "3.7.6"
  }
 },
 "nbformat": 4,
 "nbformat_minor": 4
}
