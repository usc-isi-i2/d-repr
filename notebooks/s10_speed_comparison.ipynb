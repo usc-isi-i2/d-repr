{
 "cells": [
  {
   "cell_type": "markdown",
   "metadata": {},
   "source": [
    "#### The purpose of this notebook is to compare D-REPR with other methods such as KR2RML and R2RML in term of performance"
   ]
  },
  {
   "cell_type": "code",
   "execution_count": 45,
   "metadata": {},
   "outputs": [
    {
     "name": "stdout",
     "output_type": "stream",
     "text": [
      "The autoreload extension is already loaded. To reload it, use:\n",
      "  %reload_ext autoreload\n"
     ]
    }
   ],
   "source": [
    "import re, numpy as np\n",
    "import matplotlib.pyplot as plt\n",
    "from tqdm import tqdm_notebook as tqdm\n",
    "\n",
    "%matplotlib inline\n",
    "plt.rcParams[\"figure.figsize\"] = (10.0, 8.0) # set default size of plots\n",
    "plt.rcParams[\"image.interpolation\"] = \"nearest\"\n",
    "plt.rcParams[\"image.cmap\"] = \"gray\"\n",
    "\n",
    "%load_ext autoreload\n",
    "%autoreload 2"
   ]
  },
  {
   "cell_type": "code",
   "execution_count": 11,
   "metadata": {},
   "outputs": [],
   "source": [
    "%reload_ext autoreload"
   ]
  },
  {
   "cell_type": "code",
   "execution_count": 61,
   "metadata": {},
   "outputs": [],
   "source": [
    "def read_exec_time(log_file: str, tag_str: str='>>> [DREPR]', print_exec_time: bool=True):\n",
    "    \"\"\"Read the executing time of the program\"\"\"\n",
    "    with open(log_file, \"r\") as f:\n",
    "        for line in f:\n",
    "            if line.startswith(\">>> [DREPR]\"):\n",
    "                m = re.search(\"((?:\\d+\\.)?\\d+) ?ms\", line)\n",
    "                exec_time = m.group(1)\n",
    "                if print_exec_time:\n",
    "                    print(line.strip(), \"-- extract exec_time:\", exec_time)\n",
    "                return float(exec_time)\n",
    "    raise Exception(\"Doesn't found any output message\")"
   ]
  },
  {
   "cell_type": "markdown",
   "metadata": {},
   "source": [
    "#### KR2RML\n",
    "\n",
    "To setup KR2RML, we need to first download Web-Karma-2.2 from the web, modify the file: `karma-offline/src/main/java/edu/isi/karma/rdf/OfficeRDFGenerator` to add this code to line 184: `System.out.println(\">>> [DREPR] Finish converting RDF after \" + String.valueOf(System.currentTimeMillis() - l) + \"ms\");` to print the runtime to stdout.\n",
    "\n",
    "Then run `mvn install -Dmaven.test.skip=true` at the root directory to install dependencies before actually converting data to RDF"
   ]
  },
  {
   "cell_type": "code",
   "execution_count": 51,
   "metadata": {},
   "outputs": [
    {
     "name": "stdout",
     "output_type": "stream",
     "text": [
      "/workspace/Web-Karma-2.2/karma-offline\n"
     ]
    },
    {
     "data": {
      "application/vnd.jupyter.widget-view+json": {
       "model_id": "60d4da22f8844a56b0ff8c9888dba282",
       "version_major": 2,
       "version_minor": 0
      },
      "text/plain": [
       "HBox(children=(IntProgress(value=0, max=3), HTML(value='')))"
      ]
     },
     "metadata": {},
     "output_type": "display_data"
    },
    {
     "name": "stdout",
     "output_type": "stream",
     "text": [
      "init: Bootstrapping class not in Py.BOOTSTRAP_TYPES[class=class org.python.core.PyStringMap]\n",
      ">>> [DREPR] Finish converting RDF after 5981ms\n",
      " -- extract exec_time: 5981\n",
      "init: Bootstrapping class not in Py.BOOTSTRAP_TYPES[class=class org.python.core.PyStringMap]\n",
      ">>> [DREPR] Finish converting RDF after 6486ms\n",
      " -- extract exec_time: 6486\n",
      "init: Bootstrapping class not in Py.BOOTSTRAP_TYPES[class=class org.python.core.PyStringMap]\n",
      ">>> [DREPR] Finish converting RDF after 5922ms\n",
      " -- extract exec_time: 5922\n",
      "\n",
      "run 3 times, average: 6129.666666666667ms\n"
     ]
    }
   ],
   "source": [
    "%cd /workspace/tools-evaluation/Web-Karma-2.2/karma-offline\n",
    "\n",
    "DATA_FILE = \"/workspace/drepr/drepr/rdrepr/data/insurance.csv\"\n",
    "MODEL_FILE = \"/workspace/drepr/drepr/rdrepr/data/insurance.level-0.model.ttl\"\n",
    "OUTPUT_FILE = \"/tmp/kr2rml_output.ttl\"\n",
    "\n",
    "karma_exec_times = []\n",
    "\n",
    "for i in tqdm(range(3)):\n",
    "    !mvn exec:java -Dexec.mainClass=\"edu.isi.karma.rdf.OfflineRdfGenerator\" -Dexec.args=\" \\\n",
    "        --sourcetype CSV \\\n",
    "        --filepath \\\"{DATA_FILE}\\\" \\\n",
    "        --modelfilepath \\\"{MODEL_FILE}\\\" \\\n",
    "        --sourcename test \\\n",
    "        --outputfile {OUTPUT_FILE}\" -Dexec.classpathScope=compile > /tmp/karma_speed_comparison.log\n",
    "    \n",
    "    karma_exec_times.append(read_exec_time(\"/tmp/karma_speed_comparison.log\"))\n",
    "    !rm /tmp/karma_speed_comparison.log\n",
    "        \n",
    "print(f\"run 3 times, average: {np.mean(karma_exec_times)}ms\")"
   ]
  },
  {
   "cell_type": "markdown",
   "metadata": {},
   "source": [
    "<hr />\n",
    "\n",
    "Report information about the output and input"
   ]
  },
  {
   "cell_type": "code",
   "execution_count": 29,
   "metadata": {},
   "outputs": [
    {
     "name": "stdout",
     "output_type": "stream",
     "text": [
      "#records: 36634 (6147.68 records/s)\n",
      "#triples: 256438 (43033.73 triples/s)\n"
     ]
    }
   ],
   "source": [
    "with open(DATA_FILE, \"r\") as f:\n",
    "    n_records = sum(1 for _ in f) - 1\n",
    "    print(\"#records:\", n_records, f\"({round(n_records * 1000 / np.mean(karma_exec_times), 2)} records/s)\")\n",
    "with open(OUTPUT_FILE, \"r\") as f:\n",
    "    n_triples = sum(1 for line in f if line.strip().endswith(\".\"))\n",
    "    print(\"#triples:\", n_triples, f\"({round(n_triples * 1000 / np.mean(karma_exec_times), 2)} triples/s)\")"
   ]
  },
  {
   "cell_type": "markdown",
   "metadata": {},
   "source": [
    "#### MorphRDB\n",
    "\n",
    "Assuming that you have followed their installation guides at [this](https://github.com/oeg-upm/morph-rdb/wiki/Installation) and [usages](https://github.com/oeg-upm/morph-rdb/wiki/Usage#csv-files). We are going to create r2rml mappings and invoke their program to map data into RDF"
   ]
  },
  {
   "cell_type": "code",
   "execution_count": 1,
   "metadata": {},
   "outputs": [
    {
     "name": "stdout",
     "output_type": "stream",
     "text": [
      "/workspace/tools-evaluation/morph-rdb/morph-examples\n",
      "[main] INFO es.upm.fi.dia.oeg.morph.r2rml.rdb.engine.MorphCSVProperties - reading configuration file : /workspace/drepr/drepr/rdrepr/data/insurance.level-0.morph.properties\n",
      "[main] ERROR es.upm.fi.dia.oeg.morph.r2rml.rdb.engine.MorphCSVProperties - Configuration file not found: /workspace/drepr/drepr/rdrepr/data/insurance.level-0.morph.properties\n",
      "java.io.FileNotFoundException: /workspace/drepr/drepr/rdrepr/data/insurance.level-0.morph.properties (No such file or directory)\n",
      "\tat java.io.FileInputStream.open0(Native Method)\n",
      "\tat java.io.FileInputStream.open(FileInputStream.java:195)\n",
      "\tat java.io.FileInputStream.<init>(FileInputStream.java:138)\n",
      "\tat java.io.FileInputStream.<init>(FileInputStream.java:93)\n",
      "\tat es.upm.fi.dia.oeg.morph.base.MorphProperties.readConfigurationFile(MorphProperties.scala:91)\n",
      "\tat es.upm.fi.dia.oeg.morph.r2rml.rdb.engine.MorphRDBProperties.readConfigurationFile(MorphRDBProperties.scala:18)\n",
      "\tat es.upm.fi.dia.oeg.morph.r2rml.rdb.engine.MorphCSVProperties.readConfigurationFile(MorphCSVProperties.scala:23)\n",
      "\tat es.upm.fi.dia.oeg.morph.r2rml.rdb.engine.MorphCSVProperties$.apply(MorphCSVProperties.scala:67)\n",
      "\tat es.upm.fi.dia.oeg.morph.r2rml.rdb.engine.MorphCSVRunner$.apply(MorphCSVRunner.scala:41)\n",
      "\tat es.upm.fi.dia.oeg.morph.r2rml.rdb.engine.MorphCSVRunner$.main(MorphCSVRunner.scala:60)\n",
      "\tat es.upm.fi.dia.oeg.morph.r2rml.rdb.engine.MorphCSVRunner.main(MorphCSVRunner.scala)\n",
      "java.io.FileNotFoundException: /workspace/drepr/drepr/rdrepr/data/insurance.level-0.morph.properties (No such file or directory)\n",
      "\tat java.io.FileInputStream.open0(Native Method)\n",
      "\tat java.io.FileInputStream.open(FileInputStream.java:195)\n",
      "\tat java.io.FileInputStream.<init>(FileInputStream.java:138)\n",
      "\tat java.io.FileInputStream.<init>(FileInputStream.java:93)\n",
      "\tat es.upm.fi.dia.oeg.morph.base.MorphProperties.readConfigurationFile(MorphProperties.scala:91)\n",
      "\tat es.upm.fi.dia.oeg.morph.r2rml.rdb.engine.MorphRDBProperties.readConfigurationFile(MorphRDBProperties.scala:18)\n",
      "\tat es.upm.fi.dia.oeg.morph.r2rml.rdb.engine.MorphCSVProperties.readConfigurationFile(MorphCSVProperties.scala:23)\n",
      "\tat es.upm.fi.dia.oeg.morph.r2rml.rdb.engine.MorphCSVProperties$.apply(MorphCSVProperties.scala:67)\n",
      "\tat es.upm.fi.dia.oeg.morph.r2rml.rdb.engine.MorphCSVRunner$.apply(MorphCSVRunner.scala:41)\n",
      "\tat es.upm.fi.dia.oeg.morph.r2rml.rdb.engine.MorphCSVRunner$.main(MorphCSVRunner.scala:60)\n",
      "\tat es.upm.fi.dia.oeg.morph.r2rml.rdb.engine.MorphCSVRunner.main(MorphCSVRunner.scala)\n",
      "[main] ERROR es.upm.fi.dia.oeg.morph.r2rml.rdb.engine.MorphCSVRunner$ - Exception occured: /workspace/drepr/drepr/rdrepr/data/insurance.level-0.morph.properties (No such file or directory)\n",
      "Exception in thread \"main\" java.io.FileNotFoundException: /workspace/drepr/drepr/rdrepr/data/insurance.level-0.morph.properties (No such file or directory)\n",
      "\tat java.io.FileInputStream.open0(Native Method)\n",
      "\tat java.io.FileInputStream.open(FileInputStream.java:195)\n",
      "\tat java.io.FileInputStream.<init>(FileInputStream.java:138)\n",
      "\tat java.io.FileInputStream.<init>(FileInputStream.java:93)\n",
      "\tat es.upm.fi.dia.oeg.morph.base.MorphProperties.readConfigurationFile(MorphProperties.scala:91)\n",
      "\tat es.upm.fi.dia.oeg.morph.r2rml.rdb.engine.MorphRDBProperties.readConfigurationFile(MorphRDBProperties.scala:18)\n",
      "\tat es.upm.fi.dia.oeg.morph.r2rml.rdb.engine.MorphCSVProperties.readConfigurationFile(MorphCSVProperties.scala:23)\n",
      "\tat es.upm.fi.dia.oeg.morph.r2rml.rdb.engine.MorphCSVProperties$.apply(MorphCSVProperties.scala:67)\n",
      "\tat es.upm.fi.dia.oeg.morph.r2rml.rdb.engine.MorphCSVRunner$.apply(MorphCSVRunner.scala:41)\n",
      "\tat es.upm.fi.dia.oeg.morph.r2rml.rdb.engine.MorphCSVRunner$.main(MorphCSVRunner.scala:60)\n",
      "\tat es.upm.fi.dia.oeg.morph.r2rml.rdb.engine.MorphCSVRunner.main(MorphCSVRunner.scala)\n"
     ]
    }
   ],
   "source": [
    "%cd /workspace/tools-evaluation/morph-rdb/morph-examples\n",
    "\n",
    "!java -cp .:morph-rdb-dist-3.9.17.jar:dependency/\\* es.upm.fi.dia.oeg.morph.r2rml.rdb.engine.MorphCSVRunner /workspace/drepr/drepr/rdrepr/data insurance.level-0.morph.properties"
   ]
  },
  {
   "cell_type": "markdown",
   "metadata": {},
   "source": [
    "#### DREPR"
   ]
  },
  {
   "cell_type": "code",
   "execution_count": 62,
   "metadata": {},
   "outputs": [
    {
     "name": "stdout",
     "output_type": "stream",
     "text": [
      "/workspace/drepr/drepr/rdrepr\n",
      "\u001b[0m\u001b[0m\u001b[1m\u001b[32m    Finished\u001b[0m release [optimized] target(s) in 0.18s\n",
      "\u001b[0m\u001b[0m\u001b[1m\u001b[32m     Running\u001b[0m `target/release/drepr`\n",
      ">>> [DREPR] runtime: 146.171066ms -- extract exec_time: 146.171066\n"
     ]
    }
   ],
   "source": [
    "%cd /workspace/drepr/drepr/rdrepr\n",
    "\n",
    "DREPR_EXEC_LOG = \"/tmp/drepr_exec_log.log\"\n",
    "\n",
    "!cargo run --release > {DREPR_EXEC_LOG}\n",
    "drepr_exec_times = read_exec_time(DREPR_EXEC_LOG)\n",
    "!rm {DREPR_EXEC_LOG}"
   ]
  },
  {
   "cell_type": "code",
   "execution_count": 63,
   "metadata": {},
   "outputs": [
    {
     "name": "stdout",
     "output_type": "stream",
     "text": [
      "#triples: 256438 (1754369.09 triples/s)\n"
     ]
    }
   ],
   "source": [
    "with open(\"/tmp/drepr_output.ttl\", \"r\") as f:\n",
    "    n_triples = sum(1 for line in f if line.strip().endswith(\".\"))\n",
    "    print(\"#triples:\", n_triples, f\"({round(n_triples * 1000 / np.mean(drepr_exec_times), 2)} triples/s)\")"
   ]
  }
 ],
 "metadata": {
  "kernelspec": {
   "display_name": "Python 3",
   "language": "python",
   "name": "python3"
  },
  "language_info": {
   "codemirror_mode": {
    "name": "ipython",
    "version": 3
   },
   "file_extension": ".py",
   "mimetype": "text/x-python",
   "name": "python",
   "nbconvert_exporter": "python",
   "pygments_lexer": "ipython3",
   "version": "3.7.1"
  }
 },
 "nbformat": 4,
 "nbformat_minor": 2
}
