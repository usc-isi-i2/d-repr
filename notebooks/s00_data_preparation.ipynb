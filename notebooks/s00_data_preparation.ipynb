{
 "cells": [
  {
   "cell_type": "code",
   "execution_count": 5,
   "metadata": {},
   "outputs": [],
   "source": [
    "import ujson, csv\n",
    "import random\n",
    "import time\n",
    "from pathlib import Path\n",
    "from faker import Faker\n",
    "from tqdm import tqdm_notebook as tqdm"
   ]
  },
  {
   "cell_type": "markdown",
   "metadata": {},
   "source": [
    "#### Global setup"
   ]
  },
  {
   "cell_type": "code",
   "execution_count": 2,
   "metadata": {},
   "outputs": [],
   "source": [
    "BENCHMARK_DIR = Path(\"/workspace/drepr/volumes/benchmark_data\")\n",
    "assert BENCHMARK_DIR.exists()\n",
    "\n",
    "faker = Faker()"
   ]
  },
  {
   "cell_type": "markdown",
   "metadata": {},
   "source": [
    "#### Generate datasets and their representation\n",
    "\n",
    "**HR Dataset**\n",
    "\n",
    "```\n",
    "Company:\n",
    "    + name: string\n",
    "    + address: string\n",
    "    + phone: string\n",
    "    + employee: array of employee id\n",
    "\n",
    "Employee:\n",
    "    + id: string\n",
    "    + name: string\n",
    "```"
   ]
  },
  {
   "cell_type": "code",
   "execution_count": 3,
   "metadata": {},
   "outputs": [
    {
     "data": {
      "application/vnd.jupyter.widget-view+json": {
       "model_id": "41df1a14255a429da7654e95ae64f671",
       "version_major": 2,
       "version_minor": 0
      },
      "text/plain": [
       "HBox(children=(IntProgress(value=0, max=1000000), HTML(value='')))"
      ]
     },
     "metadata": {},
     "output_type": "display_data"
    },
    {
     "name": "stdout",
     "output_type": "stream",
     "text": [
      "\n"
     ]
    }
   ],
   "source": [
    "n_employees = 1000000\n",
    "employees = []\n",
    "\n",
    "for i in tqdm(range(n_employees)):\n",
    "    employees.append({\n",
    "        \"id\": f\"E{i:09d}\",\n",
    "        \"name\": faker.name(),\n",
    "        \"salary\": random.randint(0, 1000)\n",
    "    })"
   ]
  },
  {
   "cell_type": "code",
   "execution_count": 44,
   "metadata": {},
   "outputs": [
    {
     "data": {
      "application/vnd.jupyter.widget-view+json": {
       "model_id": "ea3960a6ba0d4c0ea1c8843fcf986f7b",
       "version_major": 2,
       "version_minor": 0
      },
      "text/plain": [
       "HBox(children=(IntProgress(value=0), HTML(value='')))"
      ]
     },
     "metadata": {},
     "output_type": "display_data"
    },
    {
     "name": "stdout",
     "output_type": "stream",
     "text": [
      "\n"
     ]
    }
   ],
   "source": [
    "n_companies = 100\n",
    "min_n_employees = 1\n",
    "max_n_employees = 10\n",
    "companies = []\n",
    "\n",
    "employee_pools = set(range(len(employees)))\n",
    "\n",
    "for i in tqdm(range(n_companies)):\n",
    "    company_employees = random.sample(employee_pools, random.randint(min_n_employees, max_n_employees))\n",
    "    employee_pools = employee_pools.difference(company_employees)\n",
    "    \n",
    "    companies.append({\n",
    "        \"name\": f\"company-{i}\",\n",
    "        \"address\": faker.address(),\n",
    "        \"phone\": faker.phone_number(),\n",
    "        \"employees\": [employees[i]['id'] for i in company_employees]\n",
    "    })"
   ]
  },
  {
   "cell_type": "code",
   "execution_count": 7,
   "metadata": {},
   "outputs": [],
   "source": [
    "# with open(BENCHMARK_DIR / \"hr_company.json\", \"w\") as f:\n",
    "#     ujson.dump(companies, f, indent=2)\n",
    "    \n",
    "# with open(BENCHMARK_DIR / \"hr_employee.json\", \"w\") as f:\n",
    "#     ujson.dump(employees, f, indent=2)\n",
    "    \n",
    "# with open(BENCHMARK_DIR / \"hr_company_employee.small.json\", \"w\") as f:\n",
    "#     ujson.dump({\n",
    "#         \"companies\": companies,\n",
    "#         \"employees\": employees,\n",
    "#     }, f, indent=2)\n",
    "\n",
    "with open(BENCHMARK_DIR / \"hr_employee.csv\", \"w\") as f:\n",
    "    writer = csv.writer(f, delimiter=',', quotechar='\"', quoting=csv.QUOTE_MINIMAL)\n",
    "    writer.writerow([\"id\", \"name\", \"salary\"])\n",
    "    for e in employees:\n",
    "        writer.writerow([e['id'], e['name'], e['salary']])"
   ]
  },
  {
   "cell_type": "code",
   "execution_count": 36,
   "metadata": {},
   "outputs": [],
   "source": [
    "with open(BENCHMARK_DIR / \"hr_company_employee.repr.yml\", \"w\") as f:\n",
    "    f.write('''\n",
    "resources: \n",
    "    default:\n",
    "        type: JSON\n",
    "variables:\n",
    "    cname:\n",
    "        location: [\"companies\", \"..\", \"name\"]\n",
    "    caddress:\n",
    "        location: [\"companies\", \"..\", \"address\"]\n",
    "    cemployees:\n",
    "        location: [\"companies\", \"..\", \"employees\", \"..\"]\n",
    "    eid:\n",
    "        location: [\"employees\", \"..\", \"id\"]\n",
    "    ename:\n",
    "        location: [\"employees\", \"..\", \"name\"]\n",
    "alignments: []\n",
    "''')"
   ]
  },
  {
   "cell_type": "code",
   "execution_count": 14,
   "metadata": {},
   "outputs": [
    {
     "name": "stdout",
     "output_type": "stream",
     "text": [
      "take 0.7629098892211914\n"
     ]
    }
   ],
   "source": [
    "start = time.time()\n",
    "with open(BENCHMARK_DIR / \"hr_company_employee.json\", \"r\") as f:\n",
    "    data = ujson.load(f)\n",
    "end = time.time()\n",
    "print(\"take\", end - start)"
   ]
  },
  {
   "cell_type": "code",
   "execution_count": 13,
   "metadata": {},
   "outputs": [
    {
     "name": "stdout",
     "output_type": "stream",
     "text": [
      "salary 0 time: 1.7156329154968262\n"
     ]
    }
   ],
   "source": [
    "start = time.time()\n",
    "\n",
    "with open(BENCHMARK_DIR / \"hr_employee.csv\", \"r\") as f:\n",
    "    reader = csv.reader(f, delimiter=',', quoting=csv.QUOTE_ALL)\n",
    "    rows = [row for row in reader]\n",
    "#     for row in rows[1:]:\n",
    "#         salary += int(row[2])\n",
    "\n",
    "end = time.time()\n",
    "print('salary', salary, 'time:', end - start)"
   ]
  },
  {
   "cell_type": "code",
   "execution_count": null,
   "metadata": {},
   "outputs": [],
   "source": []
  }
 ],
 "metadata": {
  "kernelspec": {
   "display_name": "Python 3",
   "language": "python",
   "name": "python3"
  },
  "language_info": {
   "codemirror_mode": {
    "name": "ipython",
    "version": 3
   },
   "file_extension": ".py",
   "mimetype": "text/x-python",
   "name": "python",
   "nbconvert_exporter": "python",
   "pygments_lexer": "ipython3",
   "version": "3.7.1"
  }
 },
 "nbformat": 4,
 "nbformat_minor": 2
}
